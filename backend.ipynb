{
 "cells": [
  {
   "cell_type": "code",
   "execution_count": 4,
   "metadata": {},
   "outputs": [],
   "source": [
    "# !pip install nltk"
   ]
  },
  {
   "cell_type": "code",
   "execution_count": 5,
   "metadata": {},
   "outputs": [],
   "source": [
    "import nltk\n",
    "from nltk.chat.util import Chat, reflections\n",
    "from nltk.sentiment import SentimentIntensityAnalyzer"
   ]
  },
  {
   "cell_type": "code",
   "execution_count": 6,
   "metadata": {},
   "outputs": [
    {
     "name": "stderr",
     "output_type": "stream",
     "text": [
      "[nltk_data] Downloading package punkt to\n",
      "[nltk_data]     C:\\Users\\jawad\\AppData\\Roaming\\nltk_data...\n",
      "[nltk_data]   Package punkt is already up-to-date!\n",
      "[nltk_data] Downloading package punkt_tab to\n",
      "[nltk_data]     C:\\Users\\jawad\\AppData\\Roaming\\nltk_data...\n",
      "[nltk_data]   Package punkt_tab is already up-to-date!\n",
      "[nltk_data] Downloading package vader_lexicon to\n",
      "[nltk_data]     C:\\Users\\jawad\\AppData\\Roaming\\nltk_data...\n",
      "[nltk_data]   Package vader_lexicon is already up-to-date!\n"
     ]
    },
    {
     "data": {
      "text/plain": [
       "True"
      ]
     },
     "execution_count": 6,
     "metadata": {},
     "output_type": "execute_result"
    }
   ],
   "source": [
    "nltk.download('punkt')\n",
    "nltk.download('punkt_tab')\n",
    "\n",
    "nltk.download('vader_lexicon')"
   ]
  },
  {
   "cell_type": "code",
   "execution_count": null,
   "metadata": {},
   "outputs": [],
   "source": [
    "pairs = [\n",
    "    # Greetings\n",
    "    [r\"(?i).*hello.*|.*hi.*|.*hey.*|.*hlo.*\",\n",
    "     [\"Hello! How can I assist you with library-related information?\",\n",
    "     \"Hi there! Do you need any help with library services?\",\n",
    "     \"Hey! Welcome to the library information system. How may I help you?\"]],\n",
    "      \n",
    "    # Library hours\n",
    "    [r\"(?i).*library hours.*|.*open.*|.*close.*|.*timing.*\",\n",
    "     [\"The library is open from 8 AM to 8 PM, Monday to Saturday.\",\n",
    "      \"Our library timings are 8 AM to 8 PM, and we're closed on Sundays.\",\n",
    "      \"The library operates from 8 AM to 8 PM. Please let me know if you need further details!\"]],\n",
    "    \n",
    "    # Book availability\n",
    "    [r\"(?i).*book availability.*|.*find books.*|.*check books.*\",\n",
    "     [\"You can check book availability using the library catalog on our website or by visiting the library desk.\",\n",
    "      \"To check if a book is available, use the online catalog or ask our librarians for assistance.\",\n",
    "      \"Please visit our library website or contact the librarian desk to check the availability of books.\"]],\n",
    "    \n",
    "    # Borrow and return policies\n",
    "    [r\"(?i).*borrow books.*|.*return books.*|.*borrowing policy.*\",\n",
    "     [\"Books can be borrowed for 14 days and renewed once. Late returns may incur fines.\",\n",
    "      \"Borrowing is allowed for 14 days. Fines apply for overdue books, and you can renew once if needed.\",\n",
    "      \"Books can be borrowed for a 2-week period. Check with the library for renewal options and late fees.\"]],\n",
    "    \n",
    "    # Membership\n",
    "    [r\"(?i).*membership.*|.*register.*|.*joining library.*\",\n",
    "     [\"To become a member, fill out the registration form on our website or visit the library with a valid ID.\",\n",
    "      \"Library membership is free for students and requires a valid ID. Visit our library or website for registration.\",\n",
    "      \"To join the library, please provide your ID and fill out the membership form online or in person.\"]],\n",
    "    \n",
    "    # Digital resources\n",
    "    [r\"(?i).*digital resources.*|.*e-books.*|.*online materials.*\",\n",
    "     [\"We provide access to e-books, journals, and research databases. Visit the library website to explore them.\",\n",
    "      \"Digital resources like e-books and research papers are available through our library portal.\",\n",
    "      \"You can access e-books, journals, and more through the online library system. Reach out for assistance if needed.\"]],\n",
    "    \n",
    "    # Late fees and fines\n",
    "    [r\"(?i).*late fees.*|.*fines.*|.*overdue books.*\",\n",
    "     [\"The late fee is $1 per day per book. Please return or renew on time to avoid charges.\",\n",
    "      \"For overdue books, a fine of $1 per day applies. Renew your books online or in person to avoid fines.\",\n",
    "      \"Late fees are $1 per day. Contact the library staff for more information on overdue policies.\"]],\n",
    "    \n",
    "    # Library location\n",
    "    [r\"(?i).*library location.*|.*where is library.*|.*address.*\",\n",
    "     [\"The library is located on the Main Campus, next to the Student Center.\",\n",
    "      \"Our library is on the Main Campus, near the administration block.\",\n",
    "      \"You can find the library at the Main Campus, adjacent to the Academic Hall.\"]],\n",
    "    \n",
    "    # Study spaces\n",
    "    [r\"(?i).*study spaces.*|.*study rooms.*|.*quiet areas.*\",\n",
    "     [\"The library has dedicated quiet study rooms and collaborative workspaces for groups.\",\n",
    "      \"We provide study spaces, including private rooms for quiet study and group work areas.\",\n",
    "      \"You can reserve study rooms or use the quiet zones in the library. Ask our staff for assistance.\"]],\n",
    "    \n",
    "    # Printing and photocopying\n",
    "    [r\"(?i).*printing.*|.*photocopy.*|.*print services.*\",\n",
    "     [\"Printing and photocopying services are available in the library at nominal charges.\",\n",
    "      \"The library offers printing and photocopying services. Check with the help desk for rates and procedures.\",\n",
    "      \"You can use our printing and photocopying services during library hours. Nominal charges apply.\"]],\n",
    "    \n",
    "    # Events and workshops\n",
    "    [r\"(?i).*library events.*|.*workshops.*|.*activities.*\",\n",
    "     [\"The library hosts regular workshops and events. Check our website or noticeboard for upcoming activities.\",\n",
    "      \"We organize workshops on research skills, citation styles, and more. Stay updated via our website.\",\n",
    "      \"Library events and workshops are announced on our website and bulletin boards. Feel free to participate!\"]],\n",
    "    \n",
    "    # Contact information\n",
    "    [r\"(?i).*contact information.*|.*library phone.*|.*email.*\",\n",
    "     [\"You can reach the library at (555) 123-4567 or email us at library@university.edu.\",\n",
    "      \"Contact us via phone at (555) 123-4567 or email at library@university.edu for any queries.\",\n",
    "      \"Feel free to call (555) 123-4567 or email library@university.edu for assistance.\"]],\n",
    "      \n",
    "    # Library timing \n",
    "    [r\"(?i).*library hours.*|.*open.*|.*close.*|.*timing.*|.*lib timing.*\",\n",
    "     [\"The library is open from 8 AM to 8 PM, Monday to Saturday.\",\n",
    "     \"Our library timings are 8 AM to 8 PM, and we're closed on Sundays.\",\n",
    "     \"The library operates from 8 AM to 8 PM. Please let me know if you need further details!\"]],\n",
    "    \n",
    "    # Goodbye\n",
    "    [r\"(?i).*bye.*|.*goodbye.*|.*see you later.*\",\n",
    "     [\"Goodbye! Feel free to ask me anything about the library anytime.\",\n",
    "      \"See you later! Let us know if you need more information.\",\n",
    "      \"Alright, take care! Don’t hesitate to reach out for library assistance.\"]]\n",
    "\n",
    "]\n",
    "\n",
    "chatbot = Chat(pairs, reflections)\n",
    "sia = SentimentIntensityAnalyzer()"
   ]
  },
  {
   "cell_type": "code",
   "execution_count": 8,
   "metadata": {},
   "outputs": [],
   "source": [
    "def analyze_sentiment(text):\n",
    "  sentiment_score = sia.polarity_scores(text)\n",
    "  if sentiment_score['compound'] >= 0.05:\n",
    "    return \"Positive Sentence\"\n",
    "  elif sentiment_score['compound'] <= -0.05:\n",
    "    return \"Negative Sentence\"\n",
    "  else:\n",
    "    return \"Neutral Sentence\""
   ]
  },
  {
   "cell_type": "code",
   "execution_count": 11,
   "metadata": {},
   "outputs": [],
   "source": [
    "def chatbot_app():\n",
    "  print(\" -- Welcome to BSAI-4A CHATBOT -- \")\n",
    "  print(\" -- Type 'Sentiment' to Analyze a Sentence \")\n",
    "  print(\" -- Type 'Exit' to exit \")\n",
    "\n",
    "  while True:\n",
    "    user_input = input(\"You: \")\n",
    "    print(f\"User input received: {user_input}\")\n",
    "\n",
    "    if user_input.lower() == \"exit\":\n",
    "      print(\"ChatBot: Goodbye!\")\n",
    "      break\n",
    "    elif user_input.lower() == \"sentiment\":\n",
    "      print(\"ChatBot: Tell me a sentence to Analyze.\")\n",
    "      sentiment_input = input(\"You: \")\n",
    "      print(\"ChatBot: Sentiment Analysis Report -\", analyze_sentiment(sentiment_input))\n",
    "    else:\n",
    "      response = chatbot.respond(user_input.lower())\n",
    "      if response:\n",
    "        print(\"ChatBot:\", response)\n",
    "        if \"bye\" in user_input.lower():\n",
    "          break\n",
    "      else:\n",
    "        print(\"ChatBot: I'm not sure how to respond to that.\")"
   ]
  },
  {
   "cell_type": "code",
   "execution_count": 12,
   "metadata": {},
   "outputs": [
    {
     "name": "stdout",
     "output_type": "stream",
     "text": [
      " -- Welcome to BSAI-4A CHATBOT -- \n",
      " -- Type 'Sentiment' to Analyze a Sentence \n",
      " -- Type 'Exit' to exit \n",
      "User input received: hlo\n",
      "ChatBot: I'm not sure how to respond to that.\n",
      "User input received: library timing\n",
      "ChatBot: The library operates from 8 AM to 8 PM. Please let me know if you need further details!\n",
      "User input received: hours\n",
      "ChatBot: I'm not sure how to respond to that.\n",
      "User input received: bye\n",
      "ChatBot: Goodbye! Feel free to ask me anything about the library anytime.\n"
     ]
    }
   ],
   "source": [
    "chatbot_app()"
   ]
  },
  {
   "cell_type": "code",
   "execution_count": null,
   "metadata": {},
   "outputs": [],
   "source": []
  }
 ],
 "metadata": {
  "kernelspec": {
   "display_name": "Python 3",
   "language": "python",
   "name": "python3"
  },
  "language_info": {
   "codemirror_mode": {
    "name": "ipython",
    "version": 3
   },
   "file_extension": ".py",
   "mimetype": "text/x-python",
   "name": "python",
   "nbconvert_exporter": "python",
   "pygments_lexer": "ipython3",
   "version": "3.12.10"
  }
 },
 "nbformat": 4,
 "nbformat_minor": 2
}
