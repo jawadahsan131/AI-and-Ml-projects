{
 "cells": [
  {
   "cell_type": "code",
   "execution_count": 7,
   "metadata": {},
   "outputs": [
    {
     "name": "stdout",
     "output_type": "stream",
     "text": [
      "\n",
      "Solution for 4-Queens problem:\n",
      ". . Q .\n",
      "Q . . .\n",
      ". . . Q\n",
      ". Q . .\n"
     ]
    }
   ],
   "source": [
    "def N_Queen(n):\n",
    "    def safe(board, row, col):\n",
    "        for i in range(col):\n",
    "            if board[row][i] == 1:\n",
    "                return False\n",
    "        for i, j in zip(range(row, -1, -1), range(col, -1, -1)):\n",
    "            if board[i][j] == 1:\n",
    "                return False\n",
    "        for i, j in zip(range(row,n), range(col, -1, -1)):\n",
    "            if board[i][j] == 1:\n",
    "                return False\n",
    "        return True    \n",
    "    def backtrack(board,col):\n",
    "        if col >= n:\n",
    "            return True\n",
    "        \n",
    "        for row in range(n):\n",
    "            if safe(board, row, col):\n",
    "                board[row][col] = 1\n",
    "                if backtrack(board, col + 1):\n",
    "                    return True\n",
    "                board[row][col] = 0\n",
    "        return False\n",
    "    \n",
    "    board =  [[0 for _ in range(n)] for _ in range(n)]\n",
    "    if not backtrack(board,0):\n",
    "        return None\n",
    "    return [row.index(1) for row in board]\n",
    "def print_board(solution,n):\n",
    "    if solution is None:\n",
    "        print(f\"No solution exists for {n} Queen Problem. \")\n",
    "        return\n",
    "    print(f\"\\nSolution for {n}-Queens problem:\")\n",
    "    board = [['.' for _ in range(n)] for _ in range(n)]\n",
    "\n",
    "    for row, col in enumerate(solution):\n",
    "        board[row][col] = \"Q\"\n",
    "    for row in board:\n",
    "        print(' '.join(row))\n",
    "def count_the_solution(n):\n",
    "    def safe(queen, row, col):\n",
    "        for r,c in enumerate(queen):\n",
    "            if c == col or r + c == row + col or r - c == row - col:\n",
    "                return False\n",
    "        return True\n",
    "    \n",
    "    def backtrack(queen,row):\n",
    "        if row == n:\n",
    "            return 1\n",
    "        \n",
    "        count = 0\n",
    "        for col in range(n):\n",
    "            if safe(queen,row ,col):\n",
    "                queen[row] = col\n",
    "                count += backtrack(queen, row + 1)\n",
    "                queen[row] = -1\n",
    "        return count\n",
    "    return backtrack([-1] * n, 0)\n",
    "\n",
    "if __name__ == \"__main__\":\n",
    "    n = int(input(\"Enter the size of the board (e.g., 8 for an 8x8 board): \"))\n",
    "    choice = input(\"Do you want to see a solution (S), count solutions (C), or both (B)? \").strip().upper()\n",
    "    if choice in [\"S\", \"B\"]:\n",
    "        solution = N_Queen(n)\n",
    "    print_board(solution, n)\n",
    "    if choice in [\"C\", \"B\"]:\n",
    "        solution = count_the_solution(n)\n",
    "        print(f\"\\nNumber of solution for {n} Queen problem: {solution}\")\n"
   ]
  },
  {
   "cell_type": "code",
   "execution_count": null,
   "metadata": {},
   "outputs": [],
   "source": []
  },
  {
   "cell_type": "code",
   "execution_count": null,
   "metadata": {},
   "outputs": [],
   "source": []
  }
 ],
 "metadata": {
  "kernelspec": {
   "display_name": "Python 3",
   "language": "python",
   "name": "python3"
  },
  "language_info": {
   "codemirror_mode": {
    "name": "ipython",
    "version": 3
   },
   "file_extension": ".py",
   "mimetype": "text/x-python",
   "name": "python",
   "nbconvert_exporter": "python",
   "pygments_lexer": "ipython3",
   "version": "3.13.2"
  }
 },
 "nbformat": 4,
 "nbformat_minor": 2
}
